{
 "cells": [
  {
   "cell_type": "code",
   "execution_count": 1,
   "metadata": {},
   "outputs": [
    {
     "name": "stdout",
     "output_type": "stream",
     "text": [
      "b'<html>\\n<head>\\n<title>A Useful Page</title>\\n</head>\\n<body>\\n<h1>An Interesting Title</h1>\\n<div>\\nLorem ipsum dolor sit amet, consectetur adipisicing elit, sed do eiusmod tempor incididunt ut labore et dolore magna aliqua. Ut enim ad minim veniam, quis nostrud exercitation ullamco laboris nisi ut aliquip ex ea commodo consequat. Duis aute irure dolor in reprehenderit in voluptate velit esse cillum dolore eu fugiat nulla pariatur. Excepteur sint occaecat cupidatat non proident, sunt in culpa qui officia deserunt mollit anim id est laborum.\\n</div>\\n</body>\\n</html>\\n'\n"
     ]
    }
   ],
   "source": [
    "from urllib.request import urlopen\n",
    "html = urlopen(\"http://pythonscraping.com/pages/page1.html\")\n",
    "\n",
    "print(html.read())"
   ]
  },
  {
   "cell_type": "code",
   "execution_count": 2,
   "metadata": {},
   "outputs": [
    {
     "name": "stdout",
     "output_type": "stream",
     "text": [
      "Collecting beautifulsoup4\n",
      "  Downloading beautifulsoup4-4.10.0-py3-none-any.whl (97 kB)\n",
      "     ---------------------------------------- 97.4/97.4 KB 2.8 MB/s eta 0:00:00\n",
      "Collecting soupsieve>1.2\n",
      "  Downloading soupsieve-2.3.1-py3-none-any.whl (37 kB)\n",
      "Installing collected packages: soupsieve, beautifulsoup4\n",
      "Successfully installed beautifulsoup4-4.10.0 soupsieve-2.3.1\n",
      "Note: you may need to restart the kernel to use updated packages.\n"
     ]
    }
   ],
   "source": [
    "pip install beautifulsoup4"
   ]
  },
  {
   "cell_type": "code",
   "execution_count": 4,
   "metadata": {},
   "outputs": [
    {
     "name": "stdout",
     "output_type": "stream",
     "text": [
      "<h1>An Interesting Title</h1>\n"
     ]
    }
   ],
   "source": [
    "from bs4 import BeautifulSoup\n",
    "from urllib.request import urlopen, HTTPError\n",
    "\n",
    "\n",
    "try:\n",
    "    html = urlopen(\"http://pythonscraping.com/pages/page1.html\")\n",
    "except HTTPError as e:\n",
    "    print(e)\n",
    "else:\n",
    "    bsObj = BeautifulSoup(html.read(), 'html.parser')\n",
    "    print(bsObj.h1)\n",
    "    # \n",
    "\n"
   ]
  },
  {
   "cell_type": "code",
   "execution_count": 8,
   "metadata": {},
   "outputs": [],
   "source": [
    "from bs4 import BeautifulSoup\n",
    "from urllib.request import urlopen, HTTPError\n",
    "\n",
    "def getTitle(url):\n",
    "    try:\n",
    "        html = urlopen(url)\n",
    "    except HTTPError as e:\n",
    "        return None\n",
    "    \n",
    "    try:\n",
    "        bsObj = BeautifulSoup(html.read(), 'html.parser')\n",
    "        title = bsObj.body.h1\n",
    "    except AttributeError as e:\n",
    "        return None\n",
    "    return title"
   ]
  },
  {
   "cell_type": "code",
   "execution_count": 10,
   "metadata": {},
   "outputs": [
    {
     "ename": "InvalidURL",
     "evalue": "URL can't contain control characters. 'python scraping.com' (found at least ' ')",
     "output_type": "error",
     "traceback": [
      "\u001b[1;31m---------------------------------------------------------------------------\u001b[0m",
      "\u001b[1;31mInvalidURL\u001b[0m                                Traceback (most recent call last)",
      "\u001b[1;32md:\\OneDrive\\code\\web_scraping_with_python\\chapter1.ipynb Cell 5'\u001b[0m in \u001b[0;36m<cell line: 1>\u001b[1;34m()\u001b[0m\n\u001b[1;32m----> <a href='vscode-notebook-cell:/d%3A/OneDrive/code/web_scraping_with_python/chapter1.ipynb#ch0000004?line=0'>1</a>\u001b[0m getTitle(\u001b[39m\"\u001b[39;49m\u001b[39mhttp://python scraping.com/pages/page1.html\u001b[39;49m\u001b[39m\"\u001b[39;49m)\n",
      "\u001b[1;32md:\\OneDrive\\code\\web_scraping_with_python\\chapter1.ipynb Cell 4'\u001b[0m in \u001b[0;36mgetTitle\u001b[1;34m(url)\u001b[0m\n\u001b[0;32m      <a href='vscode-notebook-cell:/d%3A/OneDrive/code/web_scraping_with_python/chapter1.ipynb#ch0000003?line=3'>4</a>\u001b[0m \u001b[39mdef\u001b[39;00m \u001b[39mgetTitle\u001b[39m(url):\n\u001b[0;32m      <a href='vscode-notebook-cell:/d%3A/OneDrive/code/web_scraping_with_python/chapter1.ipynb#ch0000003?line=4'>5</a>\u001b[0m     \u001b[39mtry\u001b[39;00m:\n\u001b[1;32m----> <a href='vscode-notebook-cell:/d%3A/OneDrive/code/web_scraping_with_python/chapter1.ipynb#ch0000003?line=5'>6</a>\u001b[0m         html \u001b[39m=\u001b[39m urlopen(url)\n\u001b[0;32m      <a href='vscode-notebook-cell:/d%3A/OneDrive/code/web_scraping_with_python/chapter1.ipynb#ch0000003?line=6'>7</a>\u001b[0m     \u001b[39mexcept\u001b[39;00m HTTPError \u001b[39mas\u001b[39;00m e:\n\u001b[0;32m      <a href='vscode-notebook-cell:/d%3A/OneDrive/code/web_scraping_with_python/chapter1.ipynb#ch0000003?line=7'>8</a>\u001b[0m         \u001b[39mreturn\u001b[39;00m \u001b[39mNone\u001b[39;00m\n",
      "File \u001b[1;32m~\\AppData\\Local\\Programs\\Python\\Python310\\lib\\urllib\\request.py:216\u001b[0m, in \u001b[0;36murlopen\u001b[1;34m(url, data, timeout, cafile, capath, cadefault, context)\u001b[0m\n\u001b[0;32m    <a href='file:///c%3A/Users/seokj/AppData/Local/Programs/Python/Python310/lib/urllib/request.py?line=213'>214</a>\u001b[0m \u001b[39melse\u001b[39;00m:\n\u001b[0;32m    <a href='file:///c%3A/Users/seokj/AppData/Local/Programs/Python/Python310/lib/urllib/request.py?line=214'>215</a>\u001b[0m     opener \u001b[39m=\u001b[39m _opener\n\u001b[1;32m--> <a href='file:///c%3A/Users/seokj/AppData/Local/Programs/Python/Python310/lib/urllib/request.py?line=215'>216</a>\u001b[0m \u001b[39mreturn\u001b[39;00m opener\u001b[39m.\u001b[39;49mopen(url, data, timeout)\n",
      "File \u001b[1;32m~\\AppData\\Local\\Programs\\Python\\Python310\\lib\\urllib\\request.py:519\u001b[0m, in \u001b[0;36mOpenerDirector.open\u001b[1;34m(self, fullurl, data, timeout)\u001b[0m\n\u001b[0;32m    <a href='file:///c%3A/Users/seokj/AppData/Local/Programs/Python/Python310/lib/urllib/request.py?line=515'>516</a>\u001b[0m     req \u001b[39m=\u001b[39m meth(req)\n\u001b[0;32m    <a href='file:///c%3A/Users/seokj/AppData/Local/Programs/Python/Python310/lib/urllib/request.py?line=517'>518</a>\u001b[0m sys\u001b[39m.\u001b[39maudit(\u001b[39m'\u001b[39m\u001b[39murllib.Request\u001b[39m\u001b[39m'\u001b[39m, req\u001b[39m.\u001b[39mfull_url, req\u001b[39m.\u001b[39mdata, req\u001b[39m.\u001b[39mheaders, req\u001b[39m.\u001b[39mget_method())\n\u001b[1;32m--> <a href='file:///c%3A/Users/seokj/AppData/Local/Programs/Python/Python310/lib/urllib/request.py?line=518'>519</a>\u001b[0m response \u001b[39m=\u001b[39m \u001b[39mself\u001b[39;49m\u001b[39m.\u001b[39;49m_open(req, data)\n\u001b[0;32m    <a href='file:///c%3A/Users/seokj/AppData/Local/Programs/Python/Python310/lib/urllib/request.py?line=520'>521</a>\u001b[0m \u001b[39m# post-process response\u001b[39;00m\n\u001b[0;32m    <a href='file:///c%3A/Users/seokj/AppData/Local/Programs/Python/Python310/lib/urllib/request.py?line=521'>522</a>\u001b[0m meth_name \u001b[39m=\u001b[39m protocol\u001b[39m+\u001b[39m\u001b[39m\"\u001b[39m\u001b[39m_response\u001b[39m\u001b[39m\"\u001b[39m\n",
      "File \u001b[1;32m~\\AppData\\Local\\Programs\\Python\\Python310\\lib\\urllib\\request.py:536\u001b[0m, in \u001b[0;36mOpenerDirector._open\u001b[1;34m(self, req, data)\u001b[0m\n\u001b[0;32m    <a href='file:///c%3A/Users/seokj/AppData/Local/Programs/Python/Python310/lib/urllib/request.py?line=532'>533</a>\u001b[0m     \u001b[39mreturn\u001b[39;00m result\n\u001b[0;32m    <a href='file:///c%3A/Users/seokj/AppData/Local/Programs/Python/Python310/lib/urllib/request.py?line=534'>535</a>\u001b[0m protocol \u001b[39m=\u001b[39m req\u001b[39m.\u001b[39mtype\n\u001b[1;32m--> <a href='file:///c%3A/Users/seokj/AppData/Local/Programs/Python/Python310/lib/urllib/request.py?line=535'>536</a>\u001b[0m result \u001b[39m=\u001b[39m \u001b[39mself\u001b[39;49m\u001b[39m.\u001b[39;49m_call_chain(\u001b[39mself\u001b[39;49m\u001b[39m.\u001b[39;49mhandle_open, protocol, protocol \u001b[39m+\u001b[39;49m\n\u001b[0;32m    <a href='file:///c%3A/Users/seokj/AppData/Local/Programs/Python/Python310/lib/urllib/request.py?line=536'>537</a>\u001b[0m                           \u001b[39m'\u001b[39;49m\u001b[39m_open\u001b[39;49m\u001b[39m'\u001b[39;49m, req)\n\u001b[0;32m    <a href='file:///c%3A/Users/seokj/AppData/Local/Programs/Python/Python310/lib/urllib/request.py?line=537'>538</a>\u001b[0m \u001b[39mif\u001b[39;00m result:\n\u001b[0;32m    <a href='file:///c%3A/Users/seokj/AppData/Local/Programs/Python/Python310/lib/urllib/request.py?line=538'>539</a>\u001b[0m     \u001b[39mreturn\u001b[39;00m result\n",
      "File \u001b[1;32m~\\AppData\\Local\\Programs\\Python\\Python310\\lib\\urllib\\request.py:496\u001b[0m, in \u001b[0;36mOpenerDirector._call_chain\u001b[1;34m(self, chain, kind, meth_name, *args)\u001b[0m\n\u001b[0;32m    <a href='file:///c%3A/Users/seokj/AppData/Local/Programs/Python/Python310/lib/urllib/request.py?line=493'>494</a>\u001b[0m \u001b[39mfor\u001b[39;00m handler \u001b[39min\u001b[39;00m handlers:\n\u001b[0;32m    <a href='file:///c%3A/Users/seokj/AppData/Local/Programs/Python/Python310/lib/urllib/request.py?line=494'>495</a>\u001b[0m     func \u001b[39m=\u001b[39m \u001b[39mgetattr\u001b[39m(handler, meth_name)\n\u001b[1;32m--> <a href='file:///c%3A/Users/seokj/AppData/Local/Programs/Python/Python310/lib/urllib/request.py?line=495'>496</a>\u001b[0m     result \u001b[39m=\u001b[39m func(\u001b[39m*\u001b[39;49margs)\n\u001b[0;32m    <a href='file:///c%3A/Users/seokj/AppData/Local/Programs/Python/Python310/lib/urllib/request.py?line=496'>497</a>\u001b[0m     \u001b[39mif\u001b[39;00m result \u001b[39mis\u001b[39;00m \u001b[39mnot\u001b[39;00m \u001b[39mNone\u001b[39;00m:\n\u001b[0;32m    <a href='file:///c%3A/Users/seokj/AppData/Local/Programs/Python/Python310/lib/urllib/request.py?line=497'>498</a>\u001b[0m         \u001b[39mreturn\u001b[39;00m result\n",
      "File \u001b[1;32m~\\AppData\\Local\\Programs\\Python\\Python310\\lib\\urllib\\request.py:1377\u001b[0m, in \u001b[0;36mHTTPHandler.http_open\u001b[1;34m(self, req)\u001b[0m\n\u001b[0;32m   <a href='file:///c%3A/Users/seokj/AppData/Local/Programs/Python/Python310/lib/urllib/request.py?line=1375'>1376</a>\u001b[0m \u001b[39mdef\u001b[39;00m \u001b[39mhttp_open\u001b[39m(\u001b[39mself\u001b[39m, req):\n\u001b[1;32m-> <a href='file:///c%3A/Users/seokj/AppData/Local/Programs/Python/Python310/lib/urllib/request.py?line=1376'>1377</a>\u001b[0m     \u001b[39mreturn\u001b[39;00m \u001b[39mself\u001b[39;49m\u001b[39m.\u001b[39;49mdo_open(http\u001b[39m.\u001b[39;49mclient\u001b[39m.\u001b[39;49mHTTPConnection, req)\n",
      "File \u001b[1;32m~\\AppData\\Local\\Programs\\Python\\Python310\\lib\\urllib\\request.py:1317\u001b[0m, in \u001b[0;36mAbstractHTTPHandler.do_open\u001b[1;34m(self, http_class, req, **http_conn_args)\u001b[0m\n\u001b[0;32m   <a href='file:///c%3A/Users/seokj/AppData/Local/Programs/Python/Python310/lib/urllib/request.py?line=1313'>1314</a>\u001b[0m     \u001b[39mraise\u001b[39;00m URLError(\u001b[39m'\u001b[39m\u001b[39mno host given\u001b[39m\u001b[39m'\u001b[39m)\n\u001b[0;32m   <a href='file:///c%3A/Users/seokj/AppData/Local/Programs/Python/Python310/lib/urllib/request.py?line=1315'>1316</a>\u001b[0m \u001b[39m# will parse host:port\u001b[39;00m\n\u001b[1;32m-> <a href='file:///c%3A/Users/seokj/AppData/Local/Programs/Python/Python310/lib/urllib/request.py?line=1316'>1317</a>\u001b[0m h \u001b[39m=\u001b[39m http_class(host, timeout\u001b[39m=\u001b[39mreq\u001b[39m.\u001b[39mtimeout, \u001b[39m*\u001b[39m\u001b[39m*\u001b[39mhttp_conn_args)\n\u001b[0;32m   <a href='file:///c%3A/Users/seokj/AppData/Local/Programs/Python/Python310/lib/urllib/request.py?line=1317'>1318</a>\u001b[0m h\u001b[39m.\u001b[39mset_debuglevel(\u001b[39mself\u001b[39m\u001b[39m.\u001b[39m_debuglevel)\n\u001b[0;32m   <a href='file:///c%3A/Users/seokj/AppData/Local/Programs/Python/Python310/lib/urllib/request.py?line=1319'>1320</a>\u001b[0m headers \u001b[39m=\u001b[39m \u001b[39mdict\u001b[39m(req\u001b[39m.\u001b[39munredirected_hdrs)\n",
      "File \u001b[1;32m~\\AppData\\Local\\Programs\\Python\\Python310\\lib\\http\\client.py:853\u001b[0m, in \u001b[0;36mHTTPConnection.__init__\u001b[1;34m(self, host, port, timeout, source_address, blocksize)\u001b[0m\n\u001b[0;32m    <a href='file:///c%3A/Users/seokj/AppData/Local/Programs/Python/Python310/lib/http/client.py?line=848'>849</a>\u001b[0m \u001b[39mself\u001b[39m\u001b[39m.\u001b[39m_tunnel_headers \u001b[39m=\u001b[39m {}\n\u001b[0;32m    <a href='file:///c%3A/Users/seokj/AppData/Local/Programs/Python/Python310/lib/http/client.py?line=850'>851</a>\u001b[0m (\u001b[39mself\u001b[39m\u001b[39m.\u001b[39mhost, \u001b[39mself\u001b[39m\u001b[39m.\u001b[39mport) \u001b[39m=\u001b[39m \u001b[39mself\u001b[39m\u001b[39m.\u001b[39m_get_hostport(host, port)\n\u001b[1;32m--> <a href='file:///c%3A/Users/seokj/AppData/Local/Programs/Python/Python310/lib/http/client.py?line=852'>853</a>\u001b[0m \u001b[39mself\u001b[39;49m\u001b[39m.\u001b[39;49m_validate_host(\u001b[39mself\u001b[39;49m\u001b[39m.\u001b[39;49mhost)\n\u001b[0;32m    <a href='file:///c%3A/Users/seokj/AppData/Local/Programs/Python/Python310/lib/http/client.py?line=854'>855</a>\u001b[0m \u001b[39m# This is stored as an instance variable to allow unit\u001b[39;00m\n\u001b[0;32m    <a href='file:///c%3A/Users/seokj/AppData/Local/Programs/Python/Python310/lib/http/client.py?line=855'>856</a>\u001b[0m \u001b[39m# tests to replace it with a suitable mockup\u001b[39;00m\n\u001b[0;32m    <a href='file:///c%3A/Users/seokj/AppData/Local/Programs/Python/Python310/lib/http/client.py?line=856'>857</a>\u001b[0m \u001b[39mself\u001b[39m\u001b[39m.\u001b[39m_create_connection \u001b[39m=\u001b[39m socket\u001b[39m.\u001b[39mcreate_connection\n",
      "File \u001b[1;32m~\\AppData\\Local\\Programs\\Python\\Python310\\lib\\http\\client.py:1235\u001b[0m, in \u001b[0;36mHTTPConnection._validate_host\u001b[1;34m(self, host)\u001b[0m\n\u001b[0;32m   <a href='file:///c%3A/Users/seokj/AppData/Local/Programs/Python/Python310/lib/http/client.py?line=1232'>1233</a>\u001b[0m match \u001b[39m=\u001b[39m _contains_disallowed_url_pchar_re\u001b[39m.\u001b[39msearch(host)\n\u001b[0;32m   <a href='file:///c%3A/Users/seokj/AppData/Local/Programs/Python/Python310/lib/http/client.py?line=1233'>1234</a>\u001b[0m \u001b[39mif\u001b[39;00m match:\n\u001b[1;32m-> <a href='file:///c%3A/Users/seokj/AppData/Local/Programs/Python/Python310/lib/http/client.py?line=1234'>1235</a>\u001b[0m     \u001b[39mraise\u001b[39;00m InvalidURL(\u001b[39mf\u001b[39m\u001b[39m\"\u001b[39m\u001b[39mURL can\u001b[39m\u001b[39m'\u001b[39m\u001b[39mt contain control characters. \u001b[39m\u001b[39m{\u001b[39;00mhost\u001b[39m!r}\u001b[39;00m\u001b[39m \u001b[39m\u001b[39m\"\u001b[39m\n\u001b[0;32m   <a href='file:///c%3A/Users/seokj/AppData/Local/Programs/Python/Python310/lib/http/client.py?line=1235'>1236</a>\u001b[0m                      \u001b[39mf\u001b[39m\u001b[39m\"\u001b[39m\u001b[39m(found at least \u001b[39m\u001b[39m{\u001b[39;00mmatch\u001b[39m.\u001b[39mgroup()\u001b[39m!r}\u001b[39;00m\u001b[39m)\u001b[39m\u001b[39m\"\u001b[39m)\n",
      "\u001b[1;31mInvalidURL\u001b[0m: URL can't contain control characters. 'python scraping.com' (found at least ' ')"
     ]
    }
   ],
   "source": [
    "getTitle(\"http://pythonscraping.com/pages/page1.html\")"
   ]
  }
 ],
 "metadata": {
  "interpreter": {
   "hash": "863e562a23091b64ea909bdd39ad5c680ae68eee289185d8768823e5e1ddc25b"
  },
  "kernelspec": {
   "display_name": "Python 3.10.2 64-bit",
   "language": "python",
   "name": "python3"
  },
  "language_info": {
   "codemirror_mode": {
    "name": "ipython",
    "version": 3
   },
   "file_extension": ".py",
   "mimetype": "text/x-python",
   "name": "python",
   "nbconvert_exporter": "python",
   "pygments_lexer": "ipython3",
   "version": "3.10.2"
  },
  "orig_nbformat": 4
 },
 "nbformat": 4,
 "nbformat_minor": 2
}
